{
 "cells": [
  {
   "cell_type": "markdown",
   "id": "c980be5c",
   "metadata": {},
   "source": [
    "\n",
    "# Problem\n",
    "## Binary classes\n",
    "In this notebook, we consider the logistic regression problem, i.e linear function for classfication.\n",
    "Given a dataset $\\{x_i, y_i\\}_{i=1}^N$, where each $x_i$ is a feature vector and $y_i \\in \\{0, 1\\}$ a binary label. We want to find the best linear model that fit the given data in terms of the *binary cross entropy (BCE)* metric.\n",
    "\n",
    "Unlike in the linear regression problem, our labels are now constrained in the two values of 0 and 1, we can think of this two value as the probabilities that a given datapoint belong to class 1, i.e. if the label is 1 then the probability of that data point to be in class 1 is 100% - a distribution of class conditioned on datapoints. With this interpretation, if we also constrain the output of our model to be also a distribution, then the use of BCE is apparent: it can be seen as the distance between two distributions, similar to the MSE loss (l2 distance) in the Euclidean space.\n",
    "\n",
    "To transform the output of a linear model to a (binary) distribution, we apply a sigmoid function at the end of the model. It is often used to convert continuous values in $(-\\infty, \\infty)$ to probabilities,\n",
    "\\begin{align}\n",
    "P_{\\theta}(Y=1 | X=x) &= \\frac{1}{1+e^{-\\theta^T x}} \\\\\n",
    "\\Rightarrow \\theta^T x &= \\text{ln}\\frac{P_{\\theta}(Y=1 | X=x) }{P_{\\theta}(Y=0 | X=x) }\n",
    "\\end{align}\n",
    "that is, the output of the linear model is now the logarithm of the probability ratio of the two classes.\n",
    "\n",
    "\n",
    "\n"
   ]
  },
  {
   "cell_type": "markdown",
   "id": "21440905",
   "metadata": {},
   "source": [
    "The fact that i was taught with $y_i \\in \\{-1, 1\\}$, the equation is a bit different but since $\\{0, 1\\}$ is more common, i don't think we will comment the previous here."
   ]
  },
  {
   "cell_type": "markdown",
   "id": "ac64281d",
   "metadata": {},
   "source": [
    "## MLE formulation\n",
    "Minimizing the BCE loss with the classification problem is actually MLE under the hood. Denote the output of the model as $f_{\\theta}(x) = (1+\\exp(-\\theta^T x))^{-1}$, then\n",
    "\\begin{align}\n",
    "\\text{arg}\\max_{\\theta}P(\\{x_i, y_i\\}_{i=1}^N | \\theta) &= \\text{arg}\\max_{\\theta} \\prod_{i=1}^N f_\\theta (x_i)^{y_i} (1-f_\\theta (x_i))^{1-{y_i}} \\\\\n",
    "&= \\text{arg}\\max_{\\theta} \\sum_{i=1}^N y_i\\text{ln}f_\\theta (x_i) + (1-{y_i})\\text{ln} (1-f_\\theta (x_i)) \\\\\n",
    "&= \\text{arg}\\min_{\\theta} \\sum_{i=1}^N BCE(f_\\theta (x_i), y_i)\n",
    "\\end{align}"
   ]
  },
  {
   "cell_type": "markdown",
   "id": "c418095b",
   "metadata": {},
   "source": [
    "## Gradient derivation\n",
    "We denote (scalar) logit for the class 1 as $z=\\theta ^T x$, then we have the gradient of the sigmoid, denoted as $\\sigma(\\cdot)$, and the logit $z$ as follow:\n",
    "\\begin{align}\n",
    "\\frac{d\\sigma(z)}{dz} &= \\Big( \\frac{1}{1+e^{-z}} \\Big)^{'} = \\frac{e^{-z}}{(1+e^{-z})^2} \\\\\n",
    "&= \\sigma(z) (1-\\sigma(z))\n",
    "\\end{align}\n",
    "Note that we also have $f_{\\theta}(x) = \\sigma (\\theta^T x)$,\n",
    "we are now ready to calculate the gradient of the BCE objective w.r.t $\\theta$\n",
    "\\begin{align}\n",
    "\\nabla_{\\theta} \\sum_{i=1}^N BCE(f_\\theta (x_i), y_i) &= -\\sum_{i=1}^N\\nabla_\\theta \\big( y_i\\text{ln}f_\\theta (x_i) + (1-{y_i})\\text{ln} (1-f_\\theta (x_i) \\big)\\\\\n",
    "&= -\\sum_{i=1}^N y_i \\frac{\\nabla_\\theta f_\\theta (x_i)}{f_\\theta (x_i)} - (1-{y_i})\\frac{\\nabla_{\\theta}f_\\theta (x_i)}{1-f_\\theta (x_i)} \\\\\n",
    "&= -\\sum_{i=1}^N \\frac{y_i - f_\\theta (x_i)}{f_\\theta (x_i) (1-f_\\theta (x_i))} \\nabla_{\\theta} f_\\theta (x_i) \\\\\n",
    "&=-\\sum_{i=1}^N (y_i - f_\\theta (x_i)) \\nabla_{\\theta} z \\\\\n",
    "&=-\\sum_{i=1}^N (y_i - f_\\theta (x_i)) x_i \\\\\n",
    "&=X^T ( f_\\theta(X) - y)\n",
    "\\end{align}\n",
    "From the above gradient, we can also see that there is no closed form of the optimal solution for the logistic regression problem, because such solution would require the $\\theta$ to diverge to infinity (the sigmoid function $f_\\theta(X)$ tend to 0 and 1 at infinity). In the next section, we will use gradient descent to optimize the logistic regression models."
   ]
  },
  {
   "cell_type": "markdown",
   "id": "0f6d55c9",
   "metadata": {},
   "source": [
    "## Multiple classes\n",
    "When the data has more than two classes, i.e. $\\{1, \\dots C\\}$, with some number of classes $C$, then the above formulas is not applicable. In this section, we examine the logistic regression for multiple classes.\n",
    "\n",
    "$X\\in \\mathbb R^{N \\times d}$, $\\theta \\in \\mathbb R^{d \\times C}$, $y \\in \\mathbb R^{N \\times C}$, $y_i$ are one hot vectors. The output are fed through a softmax layer (converts a vector of numbers into a probability distribution where the values are all between 0 and 1 and sum up to 1).\n",
    "$$f_\\theta(x)_i = \\frac{e^{\\theta_i^T x}}{\\sum_j^Ce^{\\theta_j ^T x}}$$\n",
    "By using similar arguments, we can show that the MLE of the above model class can be obtained by minimizing the cross entropy loss on the dataset. We will not repeat it here. The objective of the optimization\n",
    "$$L(\\theta, X, y) = -\\sum_{i=1}^N \\sum_j^C y_{ij}\\text{ln} f_{\\theta}(x_i)_j$$\n",
    "Let $z_m = \\theta_m ^T x$ and $Z = \\sum_i e^{z_i}$, then\n",
    "\\begin{align}\n",
    "\\frac{\\partial \\text{ln}f_\\theta(x)_j}{\\partial z_m} = \\frac{Z}{e^{z_j}} \\Big[\n",
    "    \\frac{\\mathbf 1(m=j)Ze^{z_j} - e^{z_j + z_m}}{Z^2}\n",
    "     \\Big] = \\mathbf 1(m=j) - f_{\\theta}(x)_m\n",
    "\\end{align}\n",
    "substitute the above into the gradient of cross entropy\n",
    "\\begin{align}\n",
    "\\nabla_{\\theta_m} L(\\theta, X, y) &= -\\sum_{i=1}^N \\sum_j^C y_{ij}\n",
    "[\\mathbf 1(m=j) - f_{\\theta}(x_i)_m]x_i\\\\\n",
    "\\Rightarrow \\nabla_{\\theta} L(\\theta, X, y) &= -\\sum_{i=1}^N x_i y_i^T (I - \\mathbf 1_C f_{\\theta}(x_i)^T) \\\\\n",
    "&= -\\sum_{i=1}^N x_i (y_i^T - f_{\\theta}(x_i)^T)\\\\\n",
    "&= X^T (f_{\\theta}(X) - y)\n",
    "\\end{align}\n",
    "The gradient looks exactly the same as in the binary class cases."
   ]
  },
  {
   "cell_type": "markdown",
   "id": "6f12d5a4",
   "metadata": {},
   "source": [
    "# Using logistic regression\n"
   ]
  },
  {
   "cell_type": "code",
   "execution_count": 103,
   "id": "d79f8a3b",
   "metadata": {},
   "outputs": [],
   "source": [
    "import numpy as np\n",
    "import matplotlib.pyplot as plt\n",
    "from sklearn.datasets import load_iris, load_breast_cancer\n",
    "from sklearn.linear_model import LogisticRegression\n",
    "from sklearn.model_selection import train_test_split\n",
    "from sklearn.metrics import accuracy_score"
   ]
  },
  {
   "cell_type": "code",
   "execution_count": 104,
   "id": "cbf7794e",
   "metadata": {},
   "outputs": [],
   "source": [
    "def eval(X, y, theta): \n",
    "    # theta @ x_i (1 sample) ~ X @ theta (samples)\n",
    "    sigmoid = 1 / (1 + np.exp(-X @ theta)) \n",
    "    # since log(0) = infinity\n",
    "    # and sigmoid can return a value really close to zero\n",
    "    # use a trick: add 1e-6\n",
    "    bce = -np.mean(\n",
    "        y * np.log(sigmoid + 1e-6) + (1-y) * np.log(1- sigmoid + 1e-6)\n",
    "    )\n",
    "    return bce"
   ]
  },
  {
   "cell_type": "code",
   "execution_count": 105,
   "id": "13ba4bf4",
   "metadata": {},
   "outputs": [
    {
     "name": "stdout",
     "output_type": "stream",
     "text": [
      "X, y (569, 30) (569,)\n",
      "(455, 30) (455,)\n",
      "(114, 30) (114,)\n"
     ]
    },
    {
     "data": {
      "text/plain": [
       "(numpy.ndarray, numpy.ndarray)"
      ]
     },
     "execution_count": 105,
     "metadata": {},
     "output_type": "execute_result"
    }
   ],
   "source": [
    "X, y = load_breast_cancer(return_X_y=True)\n",
    "print('X, y', X.shape, y.shape)\n",
    "\n",
    "X_train, X_test, y_train, y_test = train_test_split(X, y, \n",
    "                                                    test_size=0.2, \n",
    "                                                    random_state=23)\n",
    "print(X_train.shape, y_train.shape)\n",
    "print(X_test.shape, y_test.shape)\n",
    "\n",
    "type(X_train), type(y_train)\n",
    "\n"
   ]
  },
  {
   "cell_type": "markdown",
   "id": "d0460c15",
   "metadata": {},
   "source": [
    "### Compare Naive Bayes and Logistic Regression"
   ]
  },
  {
   "cell_type": "code",
   "execution_count": 106,
   "id": "cf571bcb",
   "metadata": {},
   "outputs": [
    {
     "name": "stdout",
     "output_type": "stream",
     "text": [
      "Gause Naive Bayes model accuracy os Sklearn (in %): 95.6140350877193\n"
     ]
    }
   ],
   "source": [
    "from sklearn.naive_bayes import GaussianNB\n",
    "\n",
    "clf = GaussianNB()\n",
    "clf.fit(X_train, y_train)\n",
    "\n",
    "y_pred = clf.predict(X_test)\n",
    "\n",
    "acc = accuracy_score(y_test, y_pred)\n",
    "print(\"Gause Naive Bayes model accuracy os Sklearn (in %):\", acc*100)"
   ]
  },
  {
   "cell_type": "markdown",
   "id": "aebc6ebf",
   "metadata": {},
   "source": [
    "The original version didn't standarlize the data, result in wrong answer, so we need to do the step below first"
   ]
  },
  {
   "cell_type": "code",
   "execution_count": 107,
   "id": "0cf62725",
   "metadata": {},
   "outputs": [],
   "source": [
    "from sklearn.preprocessing import StandardScaler\n",
    "\n",
    "scaler = StandardScaler()\n",
    "X_train_scaled = scaler.fit_transform(X_train)\n",
    "X_test_scaled = scaler.transform(X_test)"
   ]
  },
  {
   "cell_type": "code",
   "execution_count": 108,
   "id": "2dde79bd",
   "metadata": {},
   "outputs": [
    {
     "name": "stdout",
     "output_type": "stream",
     "text": [
      "Logistic Regression model accuracy os Sklearn (in %): 98.24561403508771\n"
     ]
    }
   ],
   "source": [
    "clf = LogisticRegression()\n",
    "clf.fit(X_train_scaled, y_train)\n",
    "\n",
    "y_pred = clf.predict(X_test_scaled)\n",
    "\n",
    "acc = accuracy_score(y_test, y_pred)\n",
    "print(\"Logistic Regression model accuracy os Sklearn (in %):\", acc*100)"
   ]
  },
  {
   "cell_type": "markdown",
   "id": "e4e09ef7",
   "metadata": {},
   "source": [
    "### Gradient Descent"
   ]
  },
  {
   "cell_type": "code",
   "execution_count": 109,
   "id": "2731ebb1",
   "metadata": {},
   "outputs": [
    {
     "name": "stdout",
     "output_type": "stream",
     "text": [
      "final loss: 3.0052095147850233\n"
     ]
    },
    {
     "name": "stderr",
     "output_type": "stream",
     "text": [
      "C:\\Users\\dell\\AppData\\Local\\Temp\\ipykernel_22204\\438198244.py:3: RuntimeWarning: overflow encountered in exp\n",
      "  sigmoid = 1 / (1 + np.exp(-X @ theta))\n",
      "C:\\Users\\dell\\AppData\\Local\\Temp\\ipykernel_22204\\1334602220.py:18: RuntimeWarning: overflow encountered in exp\n",
      "  sigmoid = 1 / (1 + np.exp(-X_train @ current_theta))\n"
     ]
    },
    {
     "data": {
      "image/png": "[encoded data removed]",
      "text/plain": [
       "<Figure size 640x480 with 1 Axes>"
      ]
     },
     "metadata": {},
     "output_type": "display_data"
    },
    {
     "name": "stdout",
     "output_type": "stream",
     "text": [
      "Train accuracy:  0.7054945054945055\n",
      "Test accuracy:  0.6754385964912281\n"
     ]
    }
   ],
   "source": [
    "# Full Gradient Descent\n",
    "\n",
    "# Since we setup manually, we must check to make sure 0 <= y <= 1\n",
    "assert y_train.max() <= 1\n",
    "\n",
    "lr = 5e-7\n",
    "epoch = 300\n",
    "\n",
    "losses = []\n",
    "\n",
    "# Not use zeros can cause graident really small at first\n",
    "# /10 for smaller theta (randn can create up to 2 or 3)\n",
    "current_theta = np.random.randn((X.shape[-1]))/10\n",
    "\n",
    "for _ in range(epoch):\n",
    "    losses.append(eval(X_train, y_train, current_theta))\n",
    "\n",
    "    sigmoid = 1 / (1 + np.exp(-X_train @ current_theta))\n",
    "    grad = X_train.T @ (sigmoid - y_train)\n",
    "    current_theta -= lr * grad\n",
    "\n",
    "print(\"final loss:\", eval(X_test, y_test, current_theta))\n",
    "plt.plot(losses)\n",
    "plt.title(\"Losses\")\n",
    "plt.show()\n",
    "\n",
    "\n",
    "# Calculate accuracy\n",
    "sigmoid_train = 1 / (1 + np.exp(-X_train @ current_theta))\n",
    "y_pred = np.round(sigmoid_train)\n",
    "accuracy = np.mean(y_pred == y_train)\n",
    "print(\"Train accuracy: \", accuracy)\n",
    "\n",
    "sigmoid_test = 1 / (1 + np.exp(-X_test @ current_theta))\n",
    "y_pred = np.round(sigmoid_test)\n",
    "accuracy = np.mean(y_pred == y_test)\n",
    "print(\"Test accuracy: \", accuracy)"
   ]
  },
  {
   "cell_type": "code",
   "execution_count": 110,
   "id": "8a15be26",
   "metadata": {},
   "outputs": [
    {
     "name": "stdout",
     "output_type": "stream",
     "text": [
      "final loss: 0.1606793791148095\n"
     ]
    },
    {
     "data": {
      "image/png": "[encoded data removed]",
      "text/plain": [
       "<Figure size 640x480 with 1 Axes>"
      ]
     },
     "metadata": {},
     "output_type": "display_data"
    },
    {
     "name": "stdout",
     "output_type": "stream",
     "text": [
      "train Accuracy: 0.9120879120879121\n",
      "test Accuracy: 0.9473684210526315\n"
     ]
    }
   ],
   "source": [
    "# Minibatch Gradient Descent\n",
    "\n",
    "assert y_train.max() <= 1\n",
    "batch_size = 32\n",
    "lr = 5e-7\n",
    "epoch = 3000\n",
    "\n",
    "losses = []\n",
    "\n",
    "current_theta = np.random.randn((X.shape[-1]))/10\n",
    "\n",
    "for _ in range (epoch):\n",
    "    losses.append(eval(X_train, y_train, current_theta))\n",
    "\n",
    "    index = np.random.choice(X_train.shape[0], batch_size)\n",
    "    X_batch = X_train[index]\n",
    "    y_batch = y_train[index]\n",
    "\n",
    "    sigmoid = 1 / (1 + np.exp(-X_batch @ current_theta))\n",
    "    grad = X_batch.T @ (sigmoid - y_batch)\n",
    "    current_theta -= lr * grad\n",
    "\n",
    "print(\"final loss:\", eval(X_test, y_test, current_theta))\n",
    "plt.plot(losses)\n",
    "plt.title(\"Losses\")\n",
    "plt.show()\n",
    "\n",
    "sigmoid_train = 1 / (1 + np.exp(-X_train @ current_theta) )\n",
    "y_pred = np.round(sigmoid_train)\n",
    "accuracy = np.mean(y_pred == y_train)\n",
    "print(\"train Accuracy:\", accuracy)\n",
    "\n",
    "sigmoid_test = 1 / (1 + np.exp(-X_test @ current_theta) )\n",
    "y_pred = np.round(sigmoid_test)\n",
    "accuracy = np.mean(y_pred == y_test)\n",
    "print(\"test Accuracy:\", accuracy)\n"
   ]
  },
  {
   "cell_type": "markdown",
   "id": "bad13a10",
   "metadata": {},
   "source": [
    " **Remark:** The training of the gradient descent in our example is very unstable, because the pure gradient descent is noisy. In practice, we usually employ several tricks to make the Gradient descent more robust, for example using momentum, normalizing the data, cliping gradient, using other more sophisticated optimizer such as Adam. In the next section, we will normalize the input data dimension-wise before training with gradient descent"
   ]
  },
  {
   "cell_type": "markdown",
   "id": "a81212ab",
   "metadata": {},
   "source": [
    "This code performs feature standardization, also known as Z-score normalization.\n",
    "Each feature in the dataset is transformed to have a mean of 0 and a standard deviation of 1, using the formula:\n",
    "\n",
    "\n",
    "$$\n",
    "x' = \\frac{x - \\mu}{\\sigma + 10^{-8}}\n",
    "$$\n",
    "\n",
    "\n",
    "The small constant 1e-8 is added to prevent division by zero when the standard deviation is extremely small.\n",
    "\n",
    "Standardizing the data ensures that all features contribute equally during model training.\n",
    "It helps gradient descent converge faster and prevents features with large numeric ranges from dominating the learning process.\n",
    "\n",
    "The mean (X_mean) and standard deviation (X_std) are computed only from the training data to avoid data leakage.\n",
    "These same values are then used to normalize the test data, ensuring that the model is evaluated on unseen but consistently scaled inputs."
   ]
  },
  {
   "cell_type": "code",
   "execution_count": 111,
   "id": "a8d64a33",
   "metadata": {},
   "outputs": [
    {
     "data": {
      "text/plain": [
       "(455, 30)"
      ]
     },
     "execution_count": 111,
     "metadata": {},
     "output_type": "execute_result"
    }
   ],
   "source": [
    "X_train.shape"
   ]
  },
  {
   "cell_type": "code",
   "execution_count": 112,
   "id": "c09dc720",
   "metadata": {},
   "outputs": [
    {
     "name": "stdout",
     "output_type": "stream",
     "text": [
      "final loss: 0.05611997557121435\n"
     ]
    },
    {
     "data": {
      "image/png": "[encoded data removed]",
      "text/plain": [
       "<Figure size 640x480 with 1 Axes>"
      ]
     },
     "metadata": {},
     "output_type": "display_data"
    },
    {
     "name": "stdout",
     "output_type": "stream",
     "text": [
      "train Accuracy: 0.9802197802197802\n",
      "test Accuracy: 0.9824561403508771\n"
     ]
    }
   ],
   "source": [
    "# Full Gradient Descent (normalized input)\n",
    "\n",
    "assert y_train.max() <= 1\n",
    "\n",
    "X_mean = np.mean(X_train, axis=0, keepdims=True) # X_mean.shape() -> (1, 30)\n",
    "X_std = np.std(X_train, axis=0, keepdims=True)\n",
    "\n",
    "X_train = (X_train - X_mean) / (X_std+1e-8)\n",
    "X_test = (X_test - X_mean) / (X_std+1e-8)\n",
    "\n",
    "lr = 1e-3\n",
    "epoch = 300\n",
    "\n",
    "losses = []\n",
    "\n",
    "# init theta\n",
    "current_theta = np.random.randn((X_train.shape[-1]))\n",
    "\n",
    "for _ in range(epoch):\n",
    "    losses.append(eval(X_train, y_train, current_theta))\n",
    "\n",
    "    sigmoid = 1 / (1 + np.exp(-X_train @ current_theta) )\n",
    "    grad = -X_train.T @ (y_train - sigmoid)\n",
    "    current_theta -= grad * lr\n",
    "\n",
    "print(\"final loss:\", eval(X_test, y_test, current_theta))\n",
    "plt.plot(losses)\n",
    "plt.title(\"Losses\")\n",
    "plt.show()\n",
    "\n",
    "sigmoid_train = 1 / (1 + np.exp(-X_train @ current_theta) )\n",
    "y_pred = np.round(sigmoid_train)\n",
    "accuracy = np.mean(y_pred == y_train)\n",
    "print(\"train Accuracy:\", accuracy)\n",
    "\n",
    "sigmoid_test = 1 / (1 + np.exp(-X_test @ current_theta) )\n",
    "y_pred = np.round(sigmoid_test)\n",
    "accuracy = np.mean(y_pred == y_test)\n",
    "print(\"test Accuracy:\", accuracy)"
   ]
  },
  {
   "cell_type": "code",
   "execution_count": 113,
   "id": "7d2a10ce",
   "metadata": {},
   "outputs": [
    {
     "name": "stdout",
     "output_type": "stream",
     "text": [
      "final loss: 0.06819319012091428\n"
     ]
    },
    {
     "data": {
      "image/png": "[encoded data removed]",
      "text/plain": [
       "<Figure size 640x480 with 1 Axes>"
      ]
     },
     "metadata": {},
     "output_type": "display_data"
    },
    {
     "name": "stdout",
     "output_type": "stream",
     "text": [
      "train Accuracy: 0.9824175824175824\n",
      "test Accuracy: 0.9824561403508771\n"
     ]
    }
   ],
   "source": [
    "# Minibatch Gradient descent (normalized input)\n",
    "\n",
    "assert y_train.max() <= 1\n",
    "batch_size = 32\n",
    "lr = 1e-3\n",
    "epoch = 3000\n",
    "\n",
    "losses = []\n",
    "\n",
    "# init theta\n",
    "current_theta = np.random.randn((X_train.shape[-1]))\n",
    "\n",
    "for _ in range(epoch):\n",
    "    losses.append(eval(X_train, y_train, current_theta))\n",
    "\n",
    "    indx = np.random.choice(X_train.shape[0], batch_size)\n",
    "    X_batch = X_train[indx]\n",
    "    y_batch = y_train[indx]\n",
    "\n",
    "    sigmoid = 1 / (1 + np.exp(-X_batch @ current_theta) )\n",
    "    grad = -X_batch.T @ (y_batch - sigmoid)\n",
    "    current_theta -= grad * lr\n",
    "\n",
    "print(\"final loss:\", eval(X_test, y_test, current_theta))\n",
    "plt.plot(losses)\n",
    "plt.title(\"Losses\")\n",
    "plt.show()\n",
    "\n",
    "sigmoid_train = 1 / (1 + np.exp(-X_train @ current_theta) )\n",
    "y_pred = np.round(sigmoid_train)\n",
    "accuracy = np.mean(y_pred == y_train)\n",
    "print(\"train Accuracy:\", accuracy)\n",
    "\n",
    "sigmoid_test = 1 / (1 + np.exp(-X_test @ current_theta) )\n",
    "y_pred = np.round(sigmoid_test)\n",
    "accuracy = np.mean(y_pred == y_test)\n",
    "print(\"test Accuracy:\", accuracy)\n"
   ]
  },
  {
   "cell_type": "markdown",
   "id": "10de6e05",
   "metadata": {},
   "source": [
    "# Multiple classification"
   ]
  },
  {
   "cell_type": "markdown",
   "id": "7746ea6e",
   "metadata": {},
   "source": [
    "**Remind:**\n",
    "\n",
    "$X\\in \\mathbb R^{N \\times d}$, $\\theta \\in \\mathbb R^{d \\times C}$, $y \\in \\mathbb R^{N \\times C}$, $y_i$ are one hot vectors. The output $e^{\\theta_j ^T x}$ are fed through a softmax layer (converts a vector of numbers into a probability distribution where the values are all between 0 and 1 and sum up to 1).\n",
    "$$f_\\theta(x)_i = \\frac{e^{\\theta_i^T x}}{\\sum_j^Ce^{\\theta_j ^T x}}$$\n",
    "By using similar arguments, we can show that the MLE of the above model class can be obtained by minimizing the cross entropy loss on the dataset. We will not repeat it here. The objective of the optimization\n",
    "$$L(\\theta, X, y) = -\\sum_{i=1}^N \\sum_j^C y_{ij}\\text{ln} f_{\\theta}(x_i)_j$$\n"
   ]
  },
  {
   "cell_type": "code",
   "execution_count": 114,
   "id": "0e5e81a4",
   "metadata": {},
   "outputs": [],
   "source": [
    "# helper function\n",
    "def eval(X, y, theta):\n",
    "    z = np.exp(X @ theta)\n",
    "    softmax = z / np.sum(z, axis=-1, keepdims=True)\n",
    "    ce = -np.mean(y * np.log(softmax))\n",
    "    return ce\n",
    "\n",
    "def accuracy(X, y, theta):\n",
    "    logits = X @ theta\n",
    "    pred = np.argmax(logits, axis=-1) # argmax(softmax(z)) = argmax(z)\n",
    "    pred = pred.reshape(y.shape)\n",
    "    return np.mean(pred == y)\n",
    "\n",
    "def softmax(X, theta):\n",
    "    z = np.exp(X @ theta)\n",
    "    return z / np.sum(z, axis=-1, keepdims=True)"
   ]
  },
  {
   "cell_type": "code",
   "execution_count": 115,
   "id": "3354c3d8",
   "metadata": {},
   "outputs": [
    {
     "data": {
      "text/plain": [
       "((120, 4), (120,), np.int64(3))"
      ]
     },
     "execution_count": 115,
     "metadata": {},
     "output_type": "execute_result"
    }
   ],
   "source": [
    "# Load data\n",
    "X, y = load_iris(return_X_y=True)\n",
    "\n",
    "n_classes = np.max(y)+1\n",
    "\n",
    "X_train, X_test, y_train, y_test = train_test_split(X, y,\n",
    "                                                    test_size=0.2,\n",
    "                                                    random_state=23)\n",
    "\n",
    "X_train.shape, y_train.shape, n_classes"
   ]
  },
  {
   "cell_type": "code",
   "execution_count": 116,
   "id": "71d3df8e",
   "metadata": {},
   "outputs": [
    {
     "data": {
      "text/plain": [
       "array([0, 1, 0, 2, 0, 0, 1, 1, 1, 2, 2, 0, 1, 0, 1, 2, 2, 2, 0, 1, 2, 2,\n",
       "       0, 2, 1, 1, 2, 1, 0, 2, 1, 0, 1, 0, 2, 1, 1, 2, 2, 1, 0, 0, 2, 0,\n",
       "       0, 2, 2, 1, 0, 1, 2, 1, 2, 2, 1, 0, 1, 2, 2, 1, 0, 1, 1, 1, 2, 1,\n",
       "       1, 2, 2, 2, 0, 2, 1, 0, 2, 2, 0, 1, 1, 2, 0, 0, 1, 0, 1, 1, 0, 2,\n",
       "       1, 1, 0, 2, 1, 2, 2, 1, 0, 0, 2, 2, 1, 0, 2, 1, 2, 1, 0, 0, 0, 2,\n",
       "       0, 0, 2, 0, 1, 0, 1, 0, 0, 1])"
      ]
     },
     "execution_count": 116,
     "metadata": {},
     "output_type": "execute_result"
    }
   ],
   "source": [
    "y_train"
   ]
  },
  {
   "cell_type": "markdown",
   "id": "22ec36f0",
   "metadata": {},
   "source": [
    "As we can see, each represent of y is just a number. What we want is each represent is a vector, so we must encode it first"
   ]
  },
  {
   "cell_type": "code",
   "execution_count": 117,
   "id": "7464e21f",
   "metadata": {},
   "outputs": [
    {
     "name": "stdout",
     "output_type": "stream",
     "text": [
      "[[1 0 0]\n",
      " [0 1 0]\n",
      " [1 0 0]\n",
      " [0 0 1]\n",
      " [1 0 0]\n",
      " [1 0 0]\n",
      " [0 1 0]\n",
      " [0 1 0]\n",
      " [0 1 0]\n",
      " [0 0 1]\n",
      " [0 0 1]\n",
      " [1 0 0]\n",
      " [0 1 0]\n",
      " [1 0 0]\n",
      " [0 1 0]\n",
      " [0 0 1]\n",
      " [0 0 1]\n",
      " [0 0 1]\n",
      " [1 0 0]\n",
      " [0 1 0]\n",
      " [0 0 1]\n",
      " [0 0 1]\n",
      " [1 0 0]\n",
      " [0 0 1]\n",
      " [0 1 0]\n",
      " [0 1 0]\n",
      " [0 0 1]\n",
      " [0 1 0]\n",
      " [1 0 0]\n",
      " [0 0 1]\n",
      " [0 1 0]\n",
      " [1 0 0]\n",
      " [0 1 0]\n",
      " [1 0 0]\n",
      " [0 0 1]\n",
      " [0 1 0]\n",
      " [0 1 0]\n",
      " [0 0 1]\n",
      " [0 0 1]\n",
      " [0 1 0]\n",
      " [1 0 0]\n",
      " [1 0 0]\n",
      " [0 0 1]\n",
      " [1 0 0]\n",
      " [1 0 0]\n",
      " [0 0 1]\n",
      " [0 0 1]\n",
      " [0 1 0]\n",
      " [1 0 0]\n",
      " [0 1 0]\n",
      " [0 0 1]\n",
      " [0 1 0]\n",
      " [0 0 1]\n",
      " [0 0 1]\n",
      " [0 1 0]\n",
      " [1 0 0]\n",
      " [0 1 0]\n",
      " [0 0 1]\n",
      " [0 0 1]\n",
      " [0 1 0]\n",
      " [1 0 0]\n",
      " [0 1 0]\n",
      " [0 1 0]\n",
      " [0 1 0]\n",
      " [0 0 1]\n",
      " [0 1 0]\n",
      " [0 1 0]\n",
      " [0 0 1]\n",
      " [0 0 1]\n",
      " [0 0 1]\n",
      " [1 0 0]\n",
      " [0 0 1]\n",
      " [0 1 0]\n",
      " [1 0 0]\n",
      " [0 0 1]\n",
      " [0 0 1]\n",
      " [1 0 0]\n",
      " [0 1 0]\n",
      " [0 1 0]\n",
      " [0 0 1]\n",
      " [1 0 0]\n",
      " [1 0 0]\n",
      " [0 1 0]\n",
      " [1 0 0]\n",
      " [0 1 0]\n",
      " [0 1 0]\n",
      " [1 0 0]\n",
      " [0 0 1]\n",
      " [0 1 0]\n",
      " [0 1 0]\n",
      " [1 0 0]\n",
      " [0 0 1]\n",
      " [0 1 0]\n",
      " [0 0 1]\n",
      " [0 0 1]\n",
      " [0 1 0]\n",
      " [1 0 0]\n",
      " [1 0 0]\n",
      " [0 0 1]\n",
      " [0 0 1]\n",
      " [0 1 0]\n",
      " [1 0 0]\n",
      " [0 0 1]\n",
      " [0 1 0]\n",
      " [0 0 1]\n",
      " [0 1 0]\n",
      " [1 0 0]\n",
      " [1 0 0]\n",
      " [1 0 0]\n",
      " [0 0 1]\n",
      " [1 0 0]\n",
      " [1 0 0]\n",
      " [0 0 1]\n",
      " [1 0 0]\n",
      " [0 1 0]\n",
      " [1 0 0]\n",
      " [0 1 0]\n",
      " [1 0 0]\n",
      " [1 0 0]\n",
      " [0 1 0]]\n"
     ]
    }
   ],
   "source": [
    "y_train_onehot = np.zeros((y_train.shape[0], n_classes), dtype=int)\n",
    "y_train_onehot[np.arange(y_train.shape[0]), y_train] = 1\n",
    "print(y_train_onehot)\n",
    "\n",
    "X_train = np.concatenate([np.ones((X_train.shape[0], 1)), X_train], axis=-1) # add bias\n",
    "X_test = np.concatenate([np.ones((X_test.shape[0], 1)), X_test], axis=-1)\n",
    "\n"
   ]
  },
  {
   "cell_type": "code",
   "execution_count": 118,
   "id": "59df7547",
   "metadata": {},
   "outputs": [
    {
     "data": {
      "image/png": "[encoded data removed]",
      "text/plain": [
       "<Figure size 640x480 with 1 Axes>"
      ]
     },
     "metadata": {},
     "output_type": "display_data"
    },
    {
     "name": "stdout",
     "output_type": "stream",
     "text": [
      "train Accuracy: 0.975\n",
      "test Accuracy: 0.9666666666666667\n"
     ]
    }
   ],
   "source": [
    "## Full Gradient Descent\n",
    "lr = 1e-4\n",
    "epoch = 3000\n",
    "losses = []\n",
    "\n",
    "current_theta = np.random.randn(X_train.shape[-1], n_classes)\n",
    "\n",
    "for _ in range(epoch):\n",
    "    losses.append(eval(X_train, y_train_onehot, current_theta))\n",
    "\n",
    "    sm = softmax(X_train, current_theta)\n",
    "    grad =  X_train.T @ (sm - y_train_onehot)\n",
    "    current_theta -= lr * grad\n",
    "\n",
    "plt.plot(losses)\n",
    "plt.title(\"Losses\")\n",
    "plt.show()\n",
    "\n",
    "acc = accuracy(X_train, y_train, current_theta)\n",
    "print(\"train Accuracy:\", acc)\n",
    "\n",
    "acc = accuracy(X_test, y_test, current_theta)\n",
    "print(\"test Accuracy:\", acc)"
   ]
  },
  {
   "cell_type": "code",
   "execution_count": 119,
   "id": "688a2908",
   "metadata": {},
   "outputs": [
    {
     "data": {
      "image/png": "[encoded data removed]",
      "text/plain": [
       "<Figure size 640x480 with 1 Axes>"
      ]
     },
     "metadata": {},
     "output_type": "display_data"
    },
    {
     "name": "stdout",
     "output_type": "stream",
     "text": [
      "train Accuracy: 0.8083333333333333\n",
      "test Accuracy: 0.9333333333333333\n"
     ]
    }
   ],
   "source": [
    "# Minibatch Gradient Descent\n",
    "\n",
    "batch_size = 16\n",
    "lr = 1e-4\n",
    "epoch = 3000\n",
    "\n",
    "losses = []\n",
    "\n",
    "# init theta\n",
    "current_theta = np.random.randn(X_train.shape[-1], n_classes)\n",
    "\n",
    "for _ in range(epoch):\n",
    "    losses.append(eval(X_train, y_train_onehot, current_theta))\n",
    "\n",
    "    indx = np.random.choice(X_train.shape[0], batch_size)\n",
    "    X_batch = X_train[indx]\n",
    "    y_batch = y_train_onehot[indx]\n",
    "\n",
    "    sm = softmax(X_batch, current_theta)\n",
    "    grad = X_batch.T @ (sm - y_batch)\n",
    "    current_theta -= grad * lr\n",
    "\n",
    "plt.plot(losses)\n",
    "plt.title(\"Losses\")\n",
    "plt.show()\n",
    "\n",
    "acc = accuracy(X_train, y_train, current_theta)\n",
    "print(\"train Accuracy:\", acc)\n",
    "\n",
    "acc = accuracy(X_test, y_test, current_theta)\n",
    "print(\"test Accuracy:\", acc)\n",
    "\n"
   ]
  },
  {
   "cell_type": "code",
   "execution_count": 120,
   "id": "fbe55841",
   "metadata": {},
   "outputs": [
    {
     "name": "stdout",
     "output_type": "stream",
     "text": [
      "Logistic Regression model accuracy os Sklearn (in %): 100.0\n"
     ]
    }
   ],
   "source": [
    "# LogisticRegression\n",
    "clf = LogisticRegression(random_state=0)\n",
    "clf.fit(X_train, y_train)\n",
    "# Prediction\n",
    "y_pred = clf.predict(X_test)\n",
    "\n",
    "acc = accuracy_score(y_test, y_pred)\n",
    "print(\"Logistic Regression model accuracy os Sklearn (in %):\", acc*100)"
   ]
  }
 ],
 "metadata": {
  "kernelspec": {
   "display_name": "Python 3",
   "language": "python",
   "name": "python3"
  },
  "language_info": {
   "codemirror_mode": {
    "name": "ipython",
    "version": 3
   },
   "file_extension": ".py",
   "mimetype": "text/x-python",
   "name": "python",
   "nbconvert_exporter": "python",
   "pygments_lexer": "ipython3",
   "version": "3.13.2"
  }
 },
 "nbformat": 4,
 "nbformat_minor": 5
}
